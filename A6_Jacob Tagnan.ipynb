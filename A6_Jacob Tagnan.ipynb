{
 "cells": [
  {
   "cell_type": "markdown",
   "metadata": {
    "colab_type": "text",
    "id": "view-in-github"
   },
   "source": [
    "<a href=\"https://colab.research.google.com/github/Ziqi-Li/GIS5122/blob/main/assignments/GIS5122_A6.ipynb\" target=\"_parent\"><img src=\"https://colab.research.google.com/assets/colab-badge.svg\" alt=\"Open In Colab\"/></a>"
   ]
  },
  {
   "cell_type": "markdown",
   "metadata": {
    "id": "sqjesvPPEket"
   },
   "source": [
    "# Assignment 6\n",
    "**Due date/time:** Apr 19th Fri 23:59pm\n",
    "\n",
    "**Instruction**: Make a copy of this notebook and read through the questions and instructions. Write down code/text to perform the analysis.\n",
    "\n",
    "**Submission**: After you finish working on this notebook, click File->Download->Download .ipynb\n",
    "\n",
    "Please submit a notebook named A6_your_name.ipynb on Canvas."
   ]
  },
  {
   "cell_type": "markdown",
   "metadata": {
    "id": "nlUts3saotCm"
   },
   "source": [
    "## Instructions:\n",
    "\n",
    "In this assignment, I hope to give you the maximum flexibility. You are free to train ANY 1 or several machine learning models on ANY dataset of your choice and to report the results. Here are some specific requirements:\n",
    "\n",
    "1) Briefly explain how the selected machine learning model(s) work, using 2-3 sentences. (20%)\n",
    "\n",
    "2) Provide a rationale for choosing this particular machine learning model(s) over others in 2-3 sentences. (20%)\n",
    "\n",
    "3) Train and test your model(s). (30%)\n",
    "\n",
    "4) Report the accuracy of your model(s) on both the training and test datasets. (10%)\n",
    "\n",
    "5) Use simple comments or markdowns to explain your steps and code throughout the notebook. (20%)\n",
    "\n",
    "\n",
    "Feel free to use the data from your final project for this assignment. Alternatively, if you are still wondering your project data or idea, you are welcome to use either the health data or the election data that we have previously used."
   ]
  },
  {
   "cell_type": "code",
   "execution_count": null,
   "metadata": {
    "id": "Y5vxJcVpzfSJ"
   },
   "outputs": [],
   "source": []
  },
  {
   "cell_type": "markdown",
   "metadata": {
    "id": "mgEjWi2nhwvr"
   },
   "source": [
    "# Briefly explain how the selected machine learning model(s) work, using 2-3 sentences"
   ]
  },
  {
   "cell_type": "markdown",
   "metadata": {
    "id": "V-ueLrqghwxw"
   },
   "source": [
    "Tree-based ensemble machine learning models, such as Random Forest and Gradient Boosting, work by combining multiple decision trees to make predictions. Each tree in the ensemble learns from a subset of the data and contributes to the final prediction through a voting or averaging mechanism. By leveraging the collective wisdom of diverse trees, these models enhance predictive accuracy and robustness, mitigating overfitting and improving generalization performance."
   ]
  },
  {
   "cell_type": "code",
   "execution_count": null,
   "metadata": {
    "id": "LN96nGk-hw0X"
   },
   "outputs": [],
   "source": []
  },
  {
   "cell_type": "markdown",
   "metadata": {},
   "source": [
    "# Provide a rationale for choosing this particular machine learning model(s) over others in 2-3 sentences."
   ]
  },
  {
   "cell_type": "markdown",
   "metadata": {
    "id": "803M9ZYDhw2d"
   },
   "source": [
    "Tree-based ensemble methods, such as Random Forest and Gradient Boosting Machines (GBM), are chosen for their ability to manage missing values, and provide robustness against overfitting through their ensemble approach. These models are particularly beneficial because they offer high interpretability through feature importance and are less prone to be influenced by outliers, making them ideal for complex datasets where relationships between variables might be non-linear or where data quality varies. Additionally, their capability to perform both classification and regression tasks flexibly makes them versatile tools for a wide range of predictive analytics applications."
   ]
  },
  {
   "cell_type": "code",
   "execution_count": null,
   "metadata": {
    "id": "AdHueyGRhw4y"
   },
   "outputs": [],
   "source": []
  },
  {
   "cell_type": "markdown",
   "metadata": {
    "id": "3--JdFPLhw64"
   },
   "source": [
    "# Train and test of my model(s)"
   ]
  },
  {
   "cell_type": "code",
   "execution_count": 1,
   "metadata": {},
   "outputs": [],
   "source": [
    "import geopandas as gpd\n",
    "import seaborn as sns\n",
    "import pandas as pd\n",
    "import matplotlib.pyplot as plt\n",
    "import numpy as np\n",
    "import statsmodels.api as sm\n",
    "from sklearn.model_selection import train_test_split\n",
    "from hpsklearn import HyperoptEstimator,linear_regression, decision_tree_regressor\n",
    "from hpsklearn import xgboost_regression,random_forest_regressor\n",
    "from hyperopt import tpe\n",
    "import shap"
   ]
  },
  {
   "cell_type": "markdown",
   "metadata": {},
   "source": [
    "## Importing Health and Socio-Economic variables"
   ]
  },
  {
   "cell_type": "code",
   "execution_count": 2,
   "metadata": {
    "id": "El21Y8TPhw9O"
   },
   "outputs": [],
   "source": [
    "health_url = \"https://raw.github.com/Ziqi-Li/GIS5122/main/data/cdc_health_county.csv\"\n",
    "health = pd.read_csv(health_url)"
   ]
  },
  {
   "cell_type": "code",
   "execution_count": 3,
   "metadata": {
    "id": "j5gOSGt7hw_m"
   },
   "outputs": [],
   "source": [
    "socio_demo_url = \"https://raw.github.com/Ziqi-Li/GIS5122/main/data/acs_2019.csv\"\n",
    "socio_demo = pd.read_csv(socio_demo_url)"
   ]
  },
  {
   "cell_type": "code",
   "execution_count": 4,
   "metadata": {
    "id": "1TpC9QXnM4HY"
   },
   "outputs": [],
   "source": [
    "counties_url = \"https://raw.github.com/Ziqi-Li/gis5122/master/data/us_counties.geojson\"\n",
    "counties = gpd.read_file(counties_url)"
   ]
  },
  {
   "cell_type": "code",
   "execution_count": 5,
   "metadata": {},
   "outputs": [],
   "source": [
    "income_health = pd.merge(socio_demo, health, left_on = \"county_id\", right_on = \"LocationID\")"
   ]
  },
  {
   "cell_type": "code",
   "execution_count": 6,
   "metadata": {},
   "outputs": [],
   "source": [
    "gdf_income_health = pd.merge(counties, income_health, on = \"county_id\")"
   ]
  },
  {
   "cell_type": "code",
   "execution_count": null,
   "metadata": {},
   "outputs": [],
   "source": []
  },
  {
   "cell_type": "markdown",
   "metadata": {},
   "source": [
    "## Target and Features"
   ]
  },
  {
   "cell_type": "code",
   "execution_count": 7,
   "metadata": {},
   "outputs": [],
   "source": [
    "# Target\n",
    "y = gdf_income_health['OBESITY']\n",
    "\n",
    "# Features\n",
    "X =gdf_income_health[['median_income', 'pct_black', 'pct_bach', 'sex_ratio', 'pct_65_over', 'pct_age_18_29', 'ln_pop_den' ]]"
   ]
  },
  {
   "cell_type": "code",
   "execution_count": null,
   "metadata": {},
   "outputs": [],
   "source": []
  },
  {
   "cell_type": "markdown",
   "metadata": {},
   "source": [
    "### Splitting train and test data"
   ]
  },
  {
   "cell_type": "code",
   "execution_count": 9,
   "metadata": {},
   "outputs": [],
   "source": [
    "# I split the data into training (80%) and testing (20%). The model will be trained based on the training data and the testing data will be used to evaluate the model accuracy on unseen data.\n",
    "X_train, X_test, y_train, y_test = train_test_split(X, y, test_size=0.2, random_state=100)"
   ]
  },
  {
   "cell_type": "code",
   "execution_count": null,
   "metadata": {},
   "outputs": [],
   "source": []
  },
  {
   "cell_type": "markdown",
   "metadata": {},
   "source": [
    "### Hyperparameter Optimization for Regression Models"
   ]
  },
  {
   "cell_type": "code",
   "execution_count": 12,
   "metadata": {},
   "outputs": [],
   "source": [
    "def train_any_model(X_train, y_train, any_regressor,max_evals=10):\n",
    "    \n",
    "    estim = HyperoptEstimator(regressor=any_regressor(\"myModel\"), preprocessing=[],\n",
    "                              algo=tpe.suggest,max_evals=max_evals,trial_timeout=240,n_jobs=-1)\n",
    "    \n",
    "    #5-fold cross validation of your training data\n",
    "    estim.fit(X_train, y_train, n_folds=5, cv_shuffle=True, random_state=130)\n",
    "    return estim"
   ]
  },
  {
   "cell_type": "code",
   "execution_count": null,
   "metadata": {},
   "outputs": [],
   "source": []
  },
  {
   "cell_type": "markdown",
   "metadata": {},
   "source": [
    "## XGBoost"
   ]
  },
  {
   "cell_type": "code",
   "execution_count": 13,
   "metadata": {},
   "outputs": [
    {
     "name": "stdout",
     "output_type": "stream",
     "text": [
      "100%|██████████| 1/1 [00:34<00:00, 34.41s/trial, best loss: 0.47170350082520907]\n",
      "100%|██████████| 2/2 [00:09<00:00,  9.20s/trial, best loss: 0.47170350082520907]\n",
      "100%|██████████| 3/3 [00:33<00:00, 33.40s/trial, best loss: 0.429071597082167]\n",
      "100%|██████████| 4/4 [00:18<00:00, 18.61s/trial, best loss: 0.429071597082167]\n",
      "100%|██████████| 5/5 [00:38<00:00, 38.05s/trial, best loss: 0.429071597082167]\n",
      "100%|██████████| 6/6 [00:08<00:00,  8.34s/trial, best loss: 0.429071597082167]\n",
      "100%|██████████| 7/7 [00:21<00:00, 21.35s/trial, best loss: 0.429071597082167]\n",
      "100%|██████████| 8/8 [00:15<00:00, 15.54s/trial, best loss: 0.429071597082167]\n",
      "100%|██████████| 9/9 [00:25<00:00, 25.95s/trial, best loss: 0.429071597082167]\n",
      "100%|██████████| 10/10 [00:17<00:00, 17.53s/trial, best loss: 0.42448472368123014]\n",
      "CPU times: total: 12.9 s\n",
      "Wall time: 3min 44s\n"
     ]
    }
   ],
   "source": [
    "%%time\n",
    "xgb_models = train_any_model(X_train, y_train, xgboost_regression)\n",
    "\n",
    "best_xgb = xgb_models.best_model()['learner']\n",
    "\n",
    "# Make predictions on the training set\n",
    "xgb_train_pred = best_xgb.predict(X_train)\n",
    "\n",
    "# Make predictions on test set\n",
    "xgb_pred = best_xgb.predict(X_test)"
   ]
  },
  {
   "cell_type": "markdown",
   "metadata": {},
   "source": [
    "#### evaluating the performance and accuracy of Random Forest model(s) on both the training and test "
   ]
  },
  {
   "cell_type": "code",
   "execution_count": 14,
   "metadata": {},
   "outputs": [
    {
     "name": "stdout",
     "output_type": "stream",
     "text": [
      "XGB - Train_R2: 0.6625305654107284\n",
      "XGB - Test_R2: 0.6094989789797509\n",
      "XGB - Train_MSE: 6.670247896596728\n",
      "XGB - Tes_MSE: 8.390249845992232\n"
     ]
    }
   ],
   "source": [
    "from sklearn.metrics import mean_squared_error, r2_score\n",
    "\n",
    "print(\"XGB - Train_R2:\", r2_score(y_train, xgb_train_pred))\n",
    "print(\"XGB - Test_R2:\", r2_score(y_test, xgb_pred))\n",
    "\n",
    "\n",
    "print(\"XGB - Train_MSE:\", mean_squared_error(y_train, xgb_train_pred))\n",
    "print(\"XGB - Tes_MSE:\", mean_squared_error(y_test, xgb_pred))\n"
   ]
  },
  {
   "cell_type": "code",
   "execution_count": null,
   "metadata": {},
   "outputs": [],
   "source": []
  },
  {
   "cell_type": "code",
   "execution_count": null,
   "metadata": {},
   "outputs": [],
   "source": []
  },
  {
   "cell_type": "markdown",
   "metadata": {},
   "source": [
    "### Random Forest"
   ]
  },
  {
   "cell_type": "code",
   "execution_count": 15,
   "metadata": {},
   "outputs": [
    {
     "name": "stdout",
     "output_type": "stream",
     "text": [
      "100%|██████████| 1/1 [03:02<00:00, 182.68s/trial, best loss: 0.43946212432194676]\n",
      "100%|██████████| 2/2 [00:09<00:00,  9.73s/trial, best loss: 0.43946212432194676]\n",
      "100%|██████████| 3/3 [03:31<00:00, 211.64s/trial, best loss: 0.43946212432194676]\n",
      "100%|██████████| 4/4 [00:53<00:00, 53.73s/trial, best loss: 0.43946212432194676]\n",
      "100%|██████████| 5/5 [00:12<00:00, 12.39s/trial, best loss: 0.43946212432194676]\n",
      "100%|██████████| 6/6 [01:03<00:00, 63.02s/trial, best loss: 0.43946212432194676]\n",
      "100%|██████████| 7/7 [00:49<00:00, 49.14s/trial, best loss: 0.43946212432194676]\n",
      "100%|██████████| 8/8 [00:24<00:00, 24.96s/trial, best loss: 0.43946212432194676]\n",
      "100%|██████████| 9/9 [00:31<00:00, 31.80s/trial, best loss: 0.43946212432194676]\n",
      "100%|██████████| 10/10 [00:12<00:00, 12.20s/trial, best loss: 0.43946212432194676]\n"
     ]
    },
    {
     "name": "stderr",
     "output_type": "stream",
     "text": [
      "C:\\Users\\jacob\\anaconda3\\Lib\\site-packages\\sklearn\\base.py:486: UserWarning: X has feature names, but RandomForestRegressor was fitted without feature names\n",
      "  warnings.warn(\n",
      "C:\\Users\\jacob\\anaconda3\\Lib\\site-packages\\sklearn\\base.py:486: UserWarning: X has feature names, but RandomForestRegressor was fitted without feature names\n",
      "  warnings.warn(\n"
     ]
    },
    {
     "name": "stdout",
     "output_type": "stream",
     "text": [
      "CPU times: total: 6min 9s\n",
      "Wall time: 11min 43s\n"
     ]
    }
   ],
   "source": [
    "%%time\n",
    "rf_models = train_any_model(X_train, y_train, random_forest_regressor)\n",
    "\n",
    "best_rf = rf_models.best_model()['learner']\n",
    "\n",
    "# Make predictions on the training set\n",
    "rf_train_pred = best_rf.predict(X_train)\n",
    "\n",
    "# Make predictions \n",
    "rf_pred = best_rf.predict(X_test)"
   ]
  },
  {
   "cell_type": "markdown",
   "metadata": {},
   "source": [
    "#### evaluating the performance and accuracy of Random Forest model(s) on both the training and test "
   ]
  },
  {
   "cell_type": "code",
   "execution_count": 16,
   "metadata": {},
   "outputs": [
    {
     "name": "stdout",
     "output_type": "stream",
     "text": [
      "RF - Train_R2: 0.8875658364677637\n",
      "RF - Test_R2: 0.6009177035208919\n",
      "RF - Train_MSE: 2.222316055731922\n",
      "RF - Test_MSE: 8.574625919860106\n"
     ]
    }
   ],
   "source": [
    "from sklearn.metrics import mean_squared_error, r2_score\n",
    "\n",
    "print(\"RF - Train_R2:\", r2_score(y_train, rf_train_pred))\n",
    "print(\"RF - Test_R2:\", r2_score(y_test, rf_pred))\n",
    "\n",
    "\n",
    "print(\"RF - Train_MSE:\", mean_squared_error(y_train, rf_train_pred))\n",
    "print(\"RF - Test_MSE:\", mean_squared_error(y_test, rf_pred))\n"
   ]
  },
  {
   "cell_type": "code",
   "execution_count": null,
   "metadata": {},
   "outputs": [],
   "source": []
  },
  {
   "cell_type": "markdown",
   "metadata": {},
   "source": [
    "### Decision Tree"
   ]
  },
  {
   "cell_type": "code",
   "execution_count": 17,
   "metadata": {},
   "outputs": [
    {
     "name": "stdout",
     "output_type": "stream",
     "text": [
      "100%|██████████| 1/1 [00:08<00:00,  8.43s/trial, best loss: 0.8640552372577174]\n",
      "100%|██████████| 2/2 [00:07<00:00,  7.34s/trial, best loss: 0.7313102349547059]\n",
      "100%|██████████| 3/3 [00:07<00:00,  7.56s/trial, best loss: 0.7313102349547059]\n",
      "100%|██████████| 4/4 [00:10<00:00, 10.81s/trial, best loss: 0.7313102349547059]\n",
      "100%|██████████| 5/5 [00:07<00:00,  7.42s/trial, best loss: 0.6057587210192188]\n",
      "100%|██████████| 6/6 [00:06<00:00,  6.91s/trial, best loss: 0.6057587210192188]\n",
      "100%|██████████| 7/7 [00:07<00:00,  7.37s/trial, best loss: 0.6057587210192188]\n",
      "100%|██████████| 8/8 [00:06<00:00,  6.66s/trial, best loss: 0.6057587210192188]\n",
      "100%|██████████| 9/9 [00:06<00:00,  6.74s/trial, best loss: 0.5984234635706339]\n",
      "100%|██████████| 10/10 [00:07<00:00,  7.44s/trial, best loss: 0.5402270762142415]\n",
      "CPU times: total: 359 ms\n",
      "Wall time: 1min 17s\n"
     ]
    },
    {
     "name": "stderr",
     "output_type": "stream",
     "text": [
      "C:\\Users\\jacob\\anaconda3\\Lib\\site-packages\\sklearn\\base.py:486: UserWarning: X has feature names, but DecisionTreeRegressor was fitted without feature names\n",
      "  warnings.warn(\n",
      "C:\\Users\\jacob\\anaconda3\\Lib\\site-packages\\sklearn\\base.py:486: UserWarning: X has feature names, but DecisionTreeRegressor was fitted without feature names\n",
      "  warnings.warn(\n"
     ]
    }
   ],
   "source": [
    "%%time\n",
    "dt_models = train_any_model(X_train, y_train, decision_tree_regressor)\n",
    "\n",
    "best_dt = dt_models.best_model()['learner']\n",
    "\n",
    "# Make predictions on the training set\n",
    "dt_train_pred = best_dt.predict(X_train)\n",
    "\n",
    "# Make predictions \n",
    "dt_pred = best_dt.predict(X_test)"
   ]
  },
  {
   "cell_type": "markdown",
   "metadata": {},
   "source": [
    "#### evaluating the performance and accuracy of Descision Tree model(s) on both the training and test "
   ]
  },
  {
   "cell_type": "code",
   "execution_count": 18,
   "metadata": {},
   "outputs": [
    {
     "name": "stdout",
     "output_type": "stream",
     "text": [
      "DT - Train_R2: 0.5317782403326736\n",
      "DT - Test_R2: 0.4848212486213146\n",
      "DT - Train_MSE: 9.25463134568896\n",
      "DT - Test_MSE: 11.069057971014493\n"
     ]
    }
   ],
   "source": [
    "from sklearn.metrics import mean_squared_error, r2_score\n",
    "\n",
    "print(\"DT - Train_R2:\", r2_score(y_train, dt_train_pred))\n",
    "print(\"DT - Test_R2:\", r2_score(y_test, dt_pred))\n",
    "\n",
    "print(\"DT - Train_MSE:\", mean_squared_error(y_train, dt_train_pred))\n",
    "print(\"DT - Test_MSE:\", mean_squared_error(y_test, dt_pred))"
   ]
  },
  {
   "cell_type": "code",
   "execution_count": null,
   "metadata": {},
   "outputs": [],
   "source": []
  },
  {
   "cell_type": "code",
   "execution_count": null,
   "metadata": {},
   "outputs": [],
   "source": []
  },
  {
   "cell_type": "markdown",
   "metadata": {},
   "source": [
    "###  Evaluating the 3 model performances"
   ]
  },
  {
   "cell_type": "code",
   "execution_count": 19,
   "metadata": {},
   "outputs": [
    {
     "name": "stdout",
     "output_type": "stream",
     "text": [
      "XGB - Test_R2: 0.6094989789797509\n",
      "RF - Test_R2: 0.6009177035208919\n",
      "DT - Test_R2: 0.4848212486213146\n"
     ]
    }
   ],
   "source": [
    "from sklearn.metrics import mean_squared_error, r2_score\n",
    "\n",
    "print(\"XGB - Test_R2:\", r2_score(y_test, xgb_pred))\n",
    "\n",
    "print(\"RF - Test_R2:\", r2_score(y_test, rf_pred))\n",
    "\n",
    "print(\"DT - Test_R2:\", r2_score(y_test, dt_pred))"
   ]
  },
  {
   "cell_type": "code",
   "execution_count": 20,
   "metadata": {},
   "outputs": [
    {
     "name": "stdout",
     "output_type": "stream",
     "text": [
      "XGB - MSE: 8.390249845992232\n",
      "RF - MSE: 8.574625919860106\n",
      "DT - MSE: 11.069057971014493\n"
     ]
    }
   ],
   "source": [
    "print(\"XGB - MSE:\", mean_squared_error(y_test, xgb_pred))\n",
    "print(\"RF - MSE:\", mean_squared_error(y_test, rf_pred))\n",
    "print(\"DT - MSE:\", mean_squared_error(y_test, dt_pred))"
   ]
  },
  {
   "cell_type": "markdown",
   "metadata": {},
   "source": [
    "##  XGBoost is chosen to be the best model in predicting Obesity with the socio-demography variables used because it had the highest R2 and lowest MSE value"
   ]
  },
  {
   "cell_type": "code",
   "execution_count": null,
   "metadata": {},
   "outputs": [],
   "source": []
  },
  {
   "cell_type": "code",
   "execution_count": null,
   "metadata": {},
   "outputs": [],
   "source": []
  },
  {
   "cell_type": "markdown",
   "metadata": {},
   "source": [
    "## Using shap to explain the prediction"
   ]
  },
  {
   "cell_type": "code",
   "execution_count": 21,
   "metadata": {},
   "outputs": [],
   "source": [
    "# Initialize the TreeExplainer with the best trained model\n",
    "explainer = shap.TreeExplainer(best_xgb)\n",
    "\n",
    "# Compute SHAP values for the entire gdf_income_health dataset.\n",
    "shap_values = explainer(X)"
   ]
  },
  {
   "cell_type": "code",
   "execution_count": 22,
   "metadata": {},
   "outputs": [],
   "source": [
    "total_y_pred = best_xgb.predict(X)"
   ]
  },
  {
   "cell_type": "code",
   "execution_count": 23,
   "metadata": {},
   "outputs": [
    {
     "data": {
      "image/png": "[encoded data removed]",
      "text/plain": [
       "<Figure size 800x430 with 2 Axes>"
      ]
     },
     "metadata": {},
     "output_type": "display_data"
    }
   ],
   "source": [
    "shap.summary_plot(shap_values, X)"
   ]
  },
  {
   "cell_type": "code",
   "execution_count": null,
   "metadata": {},
   "outputs": [],
   "source": []
  }
 ],
 "metadata": {
  "colab": {
   "authorship_tag": "ABX9TyMVKlN3Na+/2iF6WN7lvFXP",
   "include_colab_link": true,
   "mount_file_id": "1KP0_8_IFT6-7XUF8_PpgmtdTBcn0bS_c",
   "provenance": []
  },
  "kernelspec": {
   "display_name": "Python 3 (ipykernel)",
   "language": "python",
   "name": "python3"
  },
  "language_info": {
   "codemirror_mode": {
    "name": "ipython",
    "version": 3
   },
   "file_extension": ".py",
   "mimetype": "text/x-python",
   "name": "python",
   "nbconvert_exporter": "python",
   "pygments_lexer": "ipython3",
   "version": "3.11.7"
  }
 },
 "nbformat": 4,
 "nbformat_minor": 4
}
